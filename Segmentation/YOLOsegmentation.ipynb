{
  "nbformat": 4,
  "nbformat_minor": 0,
  "metadata": {
    "colab": {
      "provenance": []
    },
    "kernelspec": {
      "name": "python3",
      "display_name": "Python 3"
    },
    "language_info": {
      "name": "python"
    }
  },
  "cells": [
    {
      "cell_type": "code",
      "execution_count": 4,
      "metadata": {
        "colab": {
          "base_uri": "https://localhost:8080/"
        },
        "id": "mUkmDiaZ9Yua",
        "outputId": "7c17895b-cf24-460f-dc14-8a39a5c41cbc"
      },
      "outputs": [
        {
          "output_type": "stream",
          "name": "stderr",
          "text": [
            "Downloading https://github.com/ultralytics/assets/releases/download/v8.3.0/yolov8x-seg.pt to 'yolov8x-seg.pt': 100%|██████████| 137M/137M [00:02<00:00, 53.1MB/s]\n"
          ]
        },
        {
          "output_type": "stream",
          "name": "stdout",
          "text": [
            "\n",
            "0: 640x640 24 cars, 2 trucks, 6809.3ms\n",
            "Speed: 4.3ms preprocess, 6809.3ms inference, 160.7ms postprocess per image at shape (1, 3, 640, 640)\n",
            "Segmented image saved to results/cars_segmented.jpg\n"
          ]
        }
      ],
      "source": [
        "import cv2\n",
        "import numpy as np\n",
        "from ultralytics import YOLO\n",
        "import os\n",
        "\n",
        "# Загрузка модели YOLOv8\n",
        "model = YOLO('yolov8x-seg.pt')\n",
        "\n",
        "colors = [\n",
        "    (255, 0, 0), (0, 255, 0), (0, 0, 255), (255, 255, 0), (0, 255, 255),\n",
        "    (255, 0, 255), (192, 192, 192), (128, 128, 128), (128, 0, 0), (128, 128, 0),\n",
        "    (0, 128, 0), (128, 0, 128), (0, 128, 128), (0, 0, 128), (72, 61, 139),\n",
        "    (47, 79, 79), (47, 79, 47), (0, 206, 209), (148, 0, 211), (255, 20, 147)\n",
        "]\n",
        "\n",
        "def process_image(image_path):\n",
        "\n",
        "    if not os.path.exists('results'):\n",
        "        os.makedirs('results')\n",
        "\n",
        "    image = cv2.imread(image_path)\n",
        "    image_orig = image.copy()\n",
        "    h_or, w_or = image.shape[:2]\n",
        "    image = cv2.resize(image, (640, 640))\n",
        "    results = model(image)[0]\n",
        "\n",
        "    classes_names = results.names\n",
        "    classes = results.boxes.cls.cpu().numpy()\n",
        "    masks = results.masks.data.cpu().numpy()\n",
        "\n",
        "\n",
        "    for i, mask in enumerate(masks):\n",
        "        color = colors[int(classes[i]) % len(colors)]\n",
        "\n",
        "        mask_resized = cv2.resize(mask, (w_or, h_or))\n",
        "\n",
        "        color_mask = np.zeros((h_or, w_or, 3), dtype=np.uint8)\n",
        "        color_mask[mask_resized > 0] = color\n",
        "\n",
        "        mask_filename = os.path.join('results', f\"{classes_names[classes[i]]}_{i}.png\")\n",
        "        cv2.imwrite(mask_filename, color_mask)\n",
        "\n",
        "\n",
        "        image_orig = cv2.addWeighted(image_orig, 1.0, color_mask, 0.5, 0)\n",
        "\n",
        "\n",
        "    # Сохранение измененного изображения\n",
        "    new_image_path = os.path.join('results', os.path.splitext(os.path.basename(image_path))[0] + '_segmented' + os.path.splitext(image_path)[1])\n",
        "    cv2.imwrite(new_image_path, image_orig)\n",
        "    print(f\"Segmented image saved to {new_image_path}\")\n",
        "\n",
        "process_image(r\"/content/cars.jpg\")"
      ]
    },
    {
      "cell_type": "code",
      "source": [],
      "metadata": {
        "id": "B3dm_TAD-GZH"
      },
      "execution_count": null,
      "outputs": []
    }
  ]
}